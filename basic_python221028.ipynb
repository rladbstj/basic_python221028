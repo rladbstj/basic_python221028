{
  "nbformat": 4,
  "nbformat_minor": 0,
  "metadata": {
    "colab": {
      "provenance": [],
      "authorship_tag": "ABX9TyNeyZTez+P9xQHq/4PkDH2o",
      "include_colab_link": true
    },
    "kernelspec": {
      "name": "python3",
      "display_name": "Python 3"
    },
    "language_info": {
      "name": "python"
    }
  },
  "cells": [
    {
      "cell_type": "markdown",
      "metadata": {
        "id": "view-in-github",
        "colab_type": "text"
      },
      "source": [
        "<a href=\"https://colab.research.google.com/github/rladbstj/basic_python221028/blob/main/basic_python221028.ipynb\" target=\"_parent\"><img src=\"https://colab.research.google.com/assets/colab-badge.svg\" alt=\"Open In Colab\"/></a>"
      ]
    },
    {
      "cell_type": "markdown",
      "source": [
        "1. 사용자로부터 두 개의 정수를 받아서 정수의 합, 정수의 차, 정수의 곱, 정수의 평균, 큰 수, 작은 수를 계산하여 화면에 출력하는 프로그램을 작성하라. 파이썬이 제공하는 내장 함수 max(x,y), min(x,y)을 사용해보자."
      ],
      "metadata": {
        "id": "mDPiLqtxdtwj"
      }
    },
    {
      "cell_type": "code",
      "execution_count": 4,
      "metadata": {
        "colab": {
          "base_uri": "https://localhost:8080/"
        },
        "id": "kCrGdp2RaJU2",
        "outputId": "cec3cde4-29e1-4725-8e2b-29a5f09e59e8"
      },
      "outputs": [
        {
          "output_type": "stream",
          "name": "stdout",
          "text": [
            "x의 값은?:9\n",
            "y의 값은?:6\n",
            "두수의 합은 : 15\n",
            "두수의 차는 : 3\n",
            "두수의 곱은 : 54\n",
            "두수의 평균은 : 7.5\n",
            "큰 수는? : 9\n",
            "작은 수는? : 6\n"
          ]
        }
      ],
      "source": [
        "x = int(input(\"x의 값은?:\"))\n",
        "y = int(input(\"y의 값은?:\"))\n",
        "print(\"두수의 합은 :\", x+y )\n",
        "print(\"두수의 차는 :\", x-y) \n",
        "print(\"두수의 곱은 :\", x*y)\n",
        "print(\"두수의 평균은 :\",(x+y)/2)\n",
        "print(\"큰 수는? :\", max(x,y))\n",
        "print(\"작은 수는? :\", min(x,y) )\n"
      ]
    },
    {
      "cell_type": "markdown",
      "source": [
        "2. 원기둥의 부피를 계산하는 프로그랩을 작성해보자. 원기둥의 부피는 다옴과 같이 계산 한다"
      ],
      "metadata": {
        "id": "3ZrUPgMRbLIQ"
      }
    },
    {
      "cell_type": "code",
      "source": [
        "r = float(input(\"r값은? : \"))\n",
        "h = float(input(\"h값은? : \"))\n",
        "\n",
        "vol = 3.141592 * r**2 * h\n",
        "print(\"원기둥의 부피는 :\", vol)\n"
      ],
      "metadata": {
        "colab": {
          "base_uri": "https://localhost:8080/"
        },
        "id": "SWQ75lDyag1b",
        "outputId": "fea15200-94b5-4369-83bf-0dab0538d526"
      },
      "execution_count": 7,
      "outputs": [
        {
          "output_type": "stream",
          "name": "stdout",
          "text": [
            "r값은? : 10\n",
            "h값은? : 10\n",
            "원기둥의 부피는 : 3141.592\n"
          ]
        }
      ]
    },
    {
      "cell_type": "markdown",
      "source": [
        "3. 사용자로부터 정수를 받아서 정수의 자리수의 합을 계산하는 프로그램을 작성하여 보자. 예릍 들어서 사용자가 1234를 입럭하였다면 1+2+3+4를 계산하면 된다 나머지 연 산자와 정수 나눗셈 연산자 //를 적극적으로 사용해보자(10한 후에 동일한 처리를 되풀이한다.)"
      ],
      "metadata": {
        "id": "XEZ5Z7XPetim"
      }
    },
    {
      "cell_type": "code",
      "source": [
        "number = int(input(\"정수를 입력하시오.:\"))\n",
        "\n",
        "sum = 0\n",
        "sum = sum + number % 10\n",
        "number = number // 10\n",
        "\n",
        "sum = sum + number % 10\n",
        "number = number // 10\n",
        "\n",
        "sum = sum + number % 10\n",
        "number = number // 10\n",
        "\n",
        "sum = sum + number % 10\n",
        "number = number // 10\n",
        "\n",
        "print(\"자리수의 합은:\", str(sum))"
      ],
      "metadata": {
        "colab": {
          "base_uri": "https://localhost:8080/"
        },
        "id": "LSceKduYfJU4",
        "outputId": "8f452ae6-5c4b-49a8-c828-82ab838baf7f"
      },
      "execution_count": 10,
      "outputs": [
        {
          "output_type": "stream",
          "name": "stdout",
          "text": [
            "정수를 입력하시오.:1234\n",
            "자리수의 합은: 10\n"
          ]
        }
      ]
    },
    {
      "cell_type": "markdown",
      "source": [
        "4. 사용자로부터 두 점의 좌표 (x1, y1)과 (x2, y2)를 입럭받아서 두 점 사이의 거리를 계산하는 프로그램을 작성해보자 스크립트 모드로 작성하라. 거리는 다음 식으로 계산 한다."
      ],
      "metadata": {
        "id": "P2a5X1d8hNt6"
      }
    },
    {
      "cell_type": "code",
      "source": [
        "x1 = int(input(\"x1값을 입력하시오. : \"))\n",
        "x2 = int(input(\"x2값을 입력하시오. : \"))\n",
        "y1 = int(input(\"y1값을 입력하시오. : \"))\n",
        "y2 = int(input(\"y2값을 입력하시오. : \"))\n",
        "dist = ((x2 - x1)**2 + (y2 -y1)**2)** 0.5\n",
        "print(\"두점의 사이의 거리는?\" , dist , \"입니다.\")"
      ],
      "metadata": {
        "colab": {
          "base_uri": "https://localhost:8080/"
        },
        "id": "NroQOAdfh9o5",
        "outputId": "9a3eb73a-6838-4fc1-c21b-f929d254931a"
      },
      "execution_count": 15,
      "outputs": [
        {
          "output_type": "stream",
          "name": "stdout",
          "text": [
            "x1값을 입력하시오. : 0\n",
            "x2값을 입력하시오. : 100\n",
            "y1값을 입력하시오. : 0\n",
            "y2값을 입력하시오. : 100\n",
            "두점의 사이의 거리는? 141.4213562373095 입니다.\n"
          ]
        }
      ]
    },
    {
      "cell_type": "markdown",
      "source": [
        "5. 4번문제에서 계산한 거리가맞는지, 터틀그 \n",
        "래픽으로 확인해보자. 거북이를 읜쪽으로 45 \n",
        "도회전하여 141만큼 전진시킨다. 다시 거북이 \n",
        "를 (0, 0)으로 이동하고 0도를 가러키게 한 후 \n",
        "에 100만큼 전진하고 왼쪽으로 90도 회전하여 \n",
        "100만큼 전진한다. 화면에 그러진 직션이 일치 \n",
        "하는가?"
      ],
      "metadata": {
        "id": "HchgoeMniIGT"
      }
    },
    {
      "cell_type": "code",
      "source": [
        "import turtle\n",
        "t = turtle.Turtle()\n",
        "t.shape(\"turtle\")\n",
        "t.left(45)\n",
        "t.fd(141)\n",
        "t.setheading(0)\n",
        "t.goto(0,0)\n",
        "t.fd(100)\n",
        "t.lt(90)\n",
        "t.fd(100)\n",
        "t._screen."
      ],
      "metadata": {
        "id": "3a6GP4Dfnh2z"
      },
      "execution_count": null,
      "outputs": []
    }
  ]
}